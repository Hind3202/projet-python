{
 "cells": [
  {
   "cell_type": "code",
   "execution_count": 1,
   "id": "7a502b11",
   "metadata": {},
   "outputs": [],
   "source": [
    "from Document import Document\n",
    "from Author import Author\n",
    "from Corpus import Corpus\n",
    "from Document import RedditDocument, ArxivDocument, Factory\n",
    "import praw\n",
    "from datetime import datetime\n",
    "import urllib.request  # Requêtes HTTP\n",
    "import xmltodict  # Convertir des données XML en un dictionnaire Python\n",
    "from functions import principale\n",
    "import ipywidgets as widgets #création d'éléments interactifs dans les notebooks Jupyter\n",
    "from IPython.display import display #affichage de widgets et de contenu HTML\n"
   ]
  },
  {
   "cell_type": "code",
   "execution_count": 2,
   "id": "4d78d160-a879-4fbb-8361-35cb848a9d7b",
   "metadata": {},
   "outputs": [
    {
     "data": {
      "application/vnd.jupyter.widget-view+json": {
       "model_id": "28acf738732b4806a5ab1e143db40cdd",
       "version_major": 2,
       "version_minor": 0
      },
      "text/plain": [
       "HTML(value='<h1>Entrez un mot clé :</h1>')"
      ]
     },
     "metadata": {},
     "output_type": "display_data"
    },
    {
     "data": {
      "application/vnd.jupyter.widget-view+json": {
       "model_id": "7f8aebf1727f4f24bac3df3528fc02ac",
       "version_major": 2,
       "version_minor": 0
      },
      "text/plain": [
       "Text(value='')"
      ]
     },
     "metadata": {},
     "output_type": "display_data"
    },
    {
     "data": {
      "application/vnd.jupyter.widget-view+json": {
       "model_id": "94a5a9d2ae60402fbdf8235b5f17824b",
       "version_major": 2,
       "version_minor": 0
      },
      "text/plain": [
       "HTML(value=\"<h1>Le nombre d'article :</h1>\")"
      ]
     },
     "metadata": {},
     "output_type": "display_data"
    },
    {
     "data": {
      "application/vnd.jupyter.widget-view+json": {
       "model_id": "5564dd7da67448e689660eacb5659f72",
       "version_major": 2,
       "version_minor": 0
      },
      "text/plain": [
       "IntText(value=0)"
      ]
     },
     "metadata": {},
     "output_type": "display_data"
    },
    {
     "data": {
      "application/vnd.jupyter.widget-view+json": {
       "model_id": "1ac138df3f3641ce94a40dec5c4b81dc",
       "version_major": 2,
       "version_minor": 0
      },
      "text/plain": [
       "HTML(value='<h1>Choisissez un type de tri :</h1>')"
      ]
     },
     "metadata": {},
     "output_type": "display_data"
    },
    {
     "data": {
      "application/vnd.jupyter.widget-view+json": {
       "model_id": "a7ca50a5ccb04f30a350b04e56effbd9",
       "version_major": 2,
       "version_minor": 0
      },
      "text/plain": [
       "Dropdown(options=('date', 'titre'), value='date')"
      ]
     },
     "metadata": {},
     "output_type": "display_data"
    },
    {
     "data": {
      "application/vnd.jupyter.widget-view+json": {
       "model_id": "e276af5544da4ae39e62f9b33784f862",
       "version_major": 2,
       "version_minor": 0
      },
      "text/plain": [
       "HTML(value='<br>')"
      ]
     },
     "metadata": {},
     "output_type": "display_data"
    },
    {
     "data": {
      "application/vnd.jupyter.widget-view+json": {
       "model_id": "21f34094c5f54828a94743265eee1720",
       "version_major": 2,
       "version_minor": 0
      },
      "text/plain": [
       "Button(description='Valider', style=ButtonStyle())"
      ]
     },
     "metadata": {},
     "output_type": "display_data"
    },
    {
     "name": "stderr",
     "output_type": "stream",
     "text": [
      "It appears that you are using PRAW in an asynchronous environment.\n",
      "It is strongly recommended to use Async PRAW: https://asyncpraw.readthedocs.io.\n",
      "See https://praw.readthedocs.io/en/latest/getting_started/multiple_instances.html#discord-bots-and-asynchronous-environments for more info.\n",
      "\n"
     ]
    },
    {
     "name": "stdout",
     "output_type": "stream",
     "text": [
      "Titre: The classification of football patterns\n",
      "Auteur: [{'name': 'V. Braungart'}, {'name': 'D. Kotschick'}]\n",
      "Date: 2006-06-08\n",
      "URL: http://arxiv.org/pdf/math/0606193v1\n",
      "Texte: We prove that every spherical football (also known as a spherical soccer\n",
      "ball) is a branched cover, branched only in the vertices, of the standard\n",
      "football made up of 12 pentagons and 20 hexagons. We also give examples showing\n",
      "that the corresponding result is not true for footballs of higher genera.\n",
      "Moreover, we classify the possible pairs (k,l) for which football patterns on\n",
      "the sphere exist satisfying a natural generalisation of the usual incidence\n",
      "relation between pentagons and hexagons to k-gons and l-gons.\n",
      "Type : Arxiv\n",
      "\n",
      "\n",
      "Titre: Predicting football tables by a maximally parsimonious model\n",
      "Auteur: [{'name': 'Kjetil Haugen'}, {'name': 'Brynjulf Owren'}]\n",
      "Date: 2018-05-23\n",
      "URL: http://arxiv.org/pdf/1805.08937v1\n",
      "Texte: This paper presents some useful mathematical results involved in football\n",
      "table prediction. In addition, some empirical results indicate that an\n",
      "alternative methodology for football table prediction may produce high quality\n",
      "forecasts with far less resource usage than conventional methods.\n",
      "Type : Arxiv\n",
      "\n",
      "\n",
      "Titre: Network analysis of the worldwide footballer transfer market\n",
      "Auteur: [{'name': 'Ming-Xia Li'}, {'name': 'Wei-Xing Zhou'}, {'name': 'H. Eugene Stanley'}]\n",
      "Date: 2018-11-01\n",
      "URL: http://arxiv.org/abs/1811.00300v1\n",
      "Texte: The transfer of football players is an important part in football games. Most\n",
      "studies on the transfer of football players focus on the transfer system and\n",
      "transfer fees but not on the transfer behavior itself. Based on the 470,792\n",
      "transfer records from 1990 to 2016 among 23,605 football clubs in 206 countries\n",
      "and regions, we construct a directed footballer transfer network (FTN), where\n",
      "the nodes are the football clubs and the links correspond to the footballer\n",
      "transfers. A systemic analysis is conduced on the topological properties of the\n",
      "FTN. We find that the in-degrees, out-degrees, in-strengths and out-strengths\n",
      "of nodes follow bimodal distributions (a power law with exponential decay),\n",
      "while the distribution of link weights has a power-law tail. We further figure\n",
      "out the correlations between node degrees, node strengths and link weights. We\n",
      "also investigate the general characteristics of different measures of network\n",
      "centrality. Our network analysis of the global footballer transfer market sheds\n",
      "new lights into the investigation of the characteristics of transfer\n",
      "activities.\n",
      "Type : Arxiv\n",
      "\n",
      "\n",
      "Titre: Networks of international football: communities, evolution and   globalization of the game\n",
      "Auteur: [{'name': 'Yang Li'}, {'name': 'Gonzalo Mateos'}]\n",
      "Date: 2022-05-21\n",
      "URL: http://arxiv.org/pdf/2205.10599v1\n",
      "Texte: As the most popular sport around the globe, the game of football has recently\n",
      "intrigued much research interest to explore and distill useful and appealing\n",
      "information from the sport. Network science and graph-centric methods have been\n",
      "previously applied to study the importance of football players and teams. In\n",
      "this paper, for the first time we study the macroscopic evolution of the\n",
      "football society from a complex network point of view. Football game records\n",
      "within a time window of over a century were collected and expressed in a graph\n",
      "format, where participant teams are represented by graph nodes and the games\n",
      "between them are the graph edges. We carry out community detection and temporal\n",
      "analysis to reveal the dynamic features and the community structures embedded\n",
      "within the football network, offering the evidence of a continuously expanding\n",
      "football society. Spatio-temporal analysis is also implemented to unveil the\n",
      "temporal states that represent distinct development stages in the football\n",
      "history. Our analysis suggests that the evolution of the game receives\n",
      "considerable impact not only from major sport events, but also from multiple\n",
      "social and political incidents. The game of football and its evolution reflect\n",
      "significant historical transitions and turning points, and can provide a novel\n",
      "perspective for the study of the worldwide globalization process.\n",
      "Type : Arxiv\n",
      "\n",
      "\n",
      "Titre: [Businessday] The 31 year old Sadio Mane marries longtime girlfriend, 18 year old Aisha Tamba, in Dakar\n",
      "Auteur: TheBiasedSportsLover\n",
      "Date: 2024-01-09 15:05:22\n",
      "URL: https://businessday.ng/news/article/senegal-star-sadio-mane-marries-longtime-girlfriend-aisha-tamba/?amp=1\n",
      "Texte: \n",
      "Type : Reddit\n",
      "\n",
      "\n",
      "Titre: /r/Football Daily Discussion Thread\n",
      "Auteur: AutoModerator\n",
      "Date: 2024-01-09 22:01:08\n",
      "URL: https://www.reddit.com/r/football/comments/192r01f/rfootball_daily_discussion_thread/\n",
      "Texte:  **Welcome to the Daily Discussion Thread!** \n",
      "\n",
      "&#x200B;\n",
      "\n",
      "Use this thread for all your football-related discussions, questions, and tactical analyses. Whether you want to share your thoughts on recent matches, discuss player performances, or dive into the nitty-gritty of tactics, this is the place for you. \n",
      "\n",
      "&#x200B;\n",
      "\n",
      " \n",
      "\n",
      "**Guidelines:**\n",
      "\n",
      "1. **Be Respectful:** Remember that everyone has their own opinions. Keep discussions civil and respectful. Disagreements are natural, but personal attacks or offensive language will not be tolerated.\n",
      "2. **Stay On Topic:** This thread is dedicated to football discussions. While some off-topic conversations are okay, try to keep the main focus on the beautiful game.\n",
      "3. **Encourage Engagement:** If you see an interesting comment or question, feel free to respond and keep the conversation going. This thread is all about community interaction.\n",
      "4. **Share Insights:** Whether you're a seasoned fan or new to the sport, share your insights and knowledge. Help create a learning environment for everyone.\n",
      "\n",
      "&#x200B;\n",
      "\n",
      " \n",
      "\n",
      "**Discussion Starters:**\n",
      "\n",
      "1. *What was the standout moment from the latest matches?*\n",
      "2. *Which player do you think is underrated and deserves more recognition?*\n",
      "3. *Tactical Analysis: Break down a recent match or discuss your favorite team's playing style.*\n",
      "4. *Have any burning questions about football rules? Ask away, and let the community help clarify.*\n",
      "5. *Ticket Questions: Planning to attend a match soon? Need advice on getting tickets or recommendations for the best fan experiences? Ask your ticket-related questions here!* \n",
      "6. *Getting into Football: New to the sport or looking to deepen your passion for it? Share your journey or ask for tips on how to begin watching football, understanding the rules, or becoming a dedicated fan.* \n",
      "7. *Jersey Talk: Show off your favorite jerseys, discuss classic kits, or ask for recommendations on where to find the best gear. What's your all-time favorite football jersey?* \n",
      "8. *VAR or Referee Rants: Frustrated with the latest VAR decisions or referee calls? Vent your feelings here and discuss the impact on the beautiful game.*\n",
      "9. *Predictions: Share your insights on upcoming matches, player performances, or league outcomes. What are your bold predictions for the season?*\n",
      "\n",
      "&#x200B;\n",
      "\n",
      "Please make sure to read our [latest important update](https://www.reddit.com/r/football/comments/16ph90m/important_update_for_rfootball_elevating_content/) before posting/commenting\n",
      "\n",
      "[Join us on Discord](https://discord.gg/football)\n",
      "Type : Reddit\n",
      "\n",
      "\n",
      "Titre: Just how good is a league one football player skill wise?\n",
      "Auteur: Pxgf\n",
      "Date: 2024-01-10 07:10:49\n",
      "URL: https://www.reddit.com/r/football/comments/1932exg/just_how_good_is_a_league_one_football_player/\n",
      "Texte: Have an uncle who used to play league one football, but growing up I didn’t care at all about football so was never interested.\n",
      "\n",
      "Grown now, still dont give a fuck about football but wanting to understand just how good he was.\n",
      "\n",
      "Got so many pictures of him on my nanas wall, playing against rooney and ronaldo in a fa cup match but didn’t even interest me then.\n",
      "\n",
      "How good is a league one player?\n",
      "Type : Reddit\n",
      "\n",
      "\n",
      "Titre: Refs' chief slams Madrid over pregame critiques\n",
      "Auteur: tylerthe-theatre\n",
      "Date: 2024-01-10 13:01:02\n",
      "URL: https://www.espn.co.uk/football/story/_/id/39277291/spanish-refs-chief-slams-real-madrid-tv-attacks-officials\n",
      "Texte: \n",
      "Type : Reddit\n",
      "\n",
      "\n"
     ]
    }
   ],
   "source": [
    "################################################################################################################################\n",
    "############################################   ***  INTERFACE  ***  ############################################################\n",
    "################################################################################################################################\n",
    "\n",
    "\n",
    "text1 = widgets.HTML(value=\"<h1>Entrez un mot clé :</h1>\")\n",
    "display(text1)\n",
    "\n",
    "sujet = widgets.Text()\n",
    "display(sujet)\n",
    "\n",
    "\n",
    "text2 = widgets.HTML(value=\"<h1>Le nombre d'article :</h1>\")\n",
    "display(text2)\n",
    "\n",
    "nb_ar = widgets.IntText()\n",
    "display(nb_ar)\n",
    "\n",
    "\n",
    "text3 = widgets.HTML(value=\"<h1>Choisissez un type de tri :</h1>\")\n",
    "display(text3)\n",
    "\n",
    "options = [\"date\",\"titre\"]\n",
    "trier = widgets.Dropdown(options=options)\n",
    "display(trier)\n",
    "\n",
    "\n",
    "display(widgets.HTML(\"<br>\"))\n",
    "\n",
    "\n",
    "botton = widgets.Button(description=\"Valider\")\n",
    "\n",
    "\n",
    "def show_all(button):\n",
    "    global corpus\n",
    "    query = sujet.value\n",
    "    nb = nb_ar.value\n",
    "    tri = trier.value\n",
    "    corpus = principale(query, nb)\n",
    "    corpus.afficher_tout(tri)\n",
    "\n",
    "botton.on_click(show_all)\n",
    "\n",
    "\n",
    "\n",
    "\n",
    "display(botton)\n"
   ]
  },
  {
   "cell_type": "code",
   "execution_count": null,
   "id": "48ef3eef-cd9f-4d29-b5bd-57f6ecf8268f",
   "metadata": {},
   "outputs": [],
   "source": []
  },
  {
   "cell_type": "code",
   "execution_count": null,
   "id": "1cf5c9b4-4da4-4410-8f10-502b3e7da2ba",
   "metadata": {},
   "outputs": [],
   "source": []
  }
 ],
 "metadata": {
  "kernelspec": {
   "display_name": "Python 3 (ipykernel)",
   "language": "python",
   "name": "python3"
  },
  "language_info": {
   "codemirror_mode": {
    "name": "ipython",
    "version": 3
   },
   "file_extension": ".py",
   "mimetype": "text/x-python",
   "name": "python",
   "nbconvert_exporter": "python",
   "pygments_lexer": "ipython3",
   "version": "3.11.4"
  }
 },
 "nbformat": 4,
 "nbformat_minor": 5
}
